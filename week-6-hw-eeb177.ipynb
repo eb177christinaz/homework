{
 "cells": [
  {
   "cell_type": "markdown",
   "metadata": {},
   "source": [
    "## Code Academy Review"
   ]
  },
  {
   "cell_type": "markdown",
   "metadata": {
    "collapsed": true
   },
   "source": [
    "Python Syntax Badge:\n",
    "<img src=http://localhost:8888/files/week-6-screenshots/PythonSyntaxBadge.png?dl=1 alt=\"Drawing\" style=\"width: 800px;\"/>"
   ]
  },
  {
   "cell_type": "markdown",
   "metadata": {},
   "source": [
    "String and Console Badge:\n",
    "<img src=http://localhost:8888/files/week-6-screenshots/StringandConsoleBadge.png?dl=1 alt=\"Drawing\" style=\"width: 800px;\"/>"
   ]
  },
  {
   "cell_type": "markdown",
   "metadata": {},
   "source": [
    "Conditional and Control Badge:\n",
    "<img src=http://localhost:8888/files/week-6-screenshots/ConditionalsandControlFlow.png?dl=1 alt=\"Drawing\" style=\"width: 800px;\"/>"
   ]
  },
  {
   "cell_type": "markdown",
   "metadata": {},
   "source": [
    "Functions Badge:\n",
    "<img src=http://localhost:8888/files/week-6-screenshots/FunctionsBadge.png?dl=1 alt=\"Drawing\" style=\"width: 800px;\"/>"
   ]
  },
  {
   "cell_type": "markdown",
   "metadata": {},
   "source": [
    "Python Lists and Dictionaries:\n",
    "<img src=http://localhost:8888/files/week-6-screenshots/PythonListsandDictionaries.png?dl=1 alt=\"Drawing\" style=\"width: 800px;\"/>"
   ]
  },
  {
   "cell_type": "markdown",
   "metadata": {},
   "source": [
    "Lists and Functions Badge:\n",
    "<img src=http://localhost:8888/files/week-6-screenshots/ListsandFunctionsBadge.png?dl=1 alt=\"Drawing\" style=\"width: 800px;\"/>"
   ]
  },
  {
   "cell_type": "markdown",
   "metadata": {},
   "source": [
    "Loops Badge: \n",
    "<img src=http://localhost:8888/files/week-6-screenshots/LoopsBadge.png?dl=1 alt=\"Drawing\" style=\"width: 800px;\"/>"
   ]
  },
  {
   "cell_type": "markdown",
   "metadata": {},
   "source": [
    "Practice Makes Perfect Badge:\n",
    "<img src=http://localhost:8888/files/week-6-screenshots/PracticeMakesPerfectBadge.png?dl=1 alt=\"Drawing\" style=\"width: 800px;\"/>"
   ]
  },
  {
   "cell_type": "markdown",
   "metadata": {},
   "source": []
  }
 ],
 "metadata": {
  "anaconda-cloud": {},
  "kernelspec": {
   "display_name": "Python [conda root]",
   "language": "python",
   "name": "conda-root-py"
  },
  "language_info": {
   "codemirror_mode": {
    "name": "ipython",
    "version": 3
   },
   "file_extension": ".py",
   "mimetype": "text/x-python",
   "name": "python",
   "nbconvert_exporter": "python",
   "pygments_lexer": "ipython3",
   "version": "3.5.2"
  }
 },
 "nbformat": 4,
 "nbformat_minor": 2
}
