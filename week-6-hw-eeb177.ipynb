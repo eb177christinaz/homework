{
 "cells": [
  {
   "cell_type": "markdown",
   "metadata": {},
   "source": [
    "## Part 1: Code Academy Review"
   ]
  },
  {
   "cell_type": "markdown",
   "metadata": {
    "collapsed": true
   },
   "source": [
    "Python Syntax Badge:\n",
    "<img src=http://localhost:8888/files/week-6-screenshots/PythonSyntaxBadge.png?dl=1 alt=\"Drawing\" style=\"width: 800px;\"/>"
   ]
  },
  {
   "cell_type": "markdown",
   "metadata": {},
   "source": [
    "String and Console Badge:\n",
    "<img src=http://localhost:8888/files/week-6-screenshots/StringandConsoleBadge.png?dl=1 alt=\"Drawing\" style=\"width: 800px;\"/>"
   ]
  },
  {
   "cell_type": "markdown",
   "metadata": {},
   "source": [
    "Conditional and Control Badge:\n",
    "<img src=http://localhost:8888/files/week-6-screenshots/ConditionalsandControlFlow.png?dl=1 alt=\"Drawing\" style=\"width: 800px;\"/>"
   ]
  },
  {
   "cell_type": "markdown",
   "metadata": {},
   "source": [
    "Functions Badge:\n",
    "<img src=http://localhost:8888/files/week-6-screenshots/FunctionsBadge.png?dl=1 alt=\"Drawing\" style=\"width: 800px;\"/>"
   ]
  },
  {
   "cell_type": "markdown",
   "metadata": {},
   "source": [
    "Python Lists and Dictionaries:\n",
    "<img src=http://localhost:8888/files/week-6-screenshots/PythonListsandDictionaries.png?dl=1 alt=\"Drawing\" style=\"width: 800px;\"/>"
   ]
  },
  {
   "cell_type": "markdown",
   "metadata": {},
   "source": [
    "Lists and Functions Badge:\n",
    "<img src=http://localhost:8888/files/week-6-screenshots/ListsandFunctionsBadge.png?dl=1 alt=\"Drawing\" style=\"width: 800px;\"/>"
   ]
  },
  {
   "cell_type": "markdown",
   "metadata": {},
   "source": [
    "Loops Badge: \n",
    "<img src=http://localhost:8888/files/week-6-screenshots/LoopsBadge.png?dl=1 alt=\"Drawing\" style=\"width: 800px;\"/>"
   ]
  },
  {
   "cell_type": "markdown",
   "metadata": {},
   "source": [
    "Practice Makes Perfect Badge:\n",
    "<img src=http://localhost:8888/files/week-6-screenshots/PracticeMakesPerfectBadge.png?dl=1 alt=\"Drawing\" style=\"width: 800px;\"/>"
   ]
  },
  {
   "cell_type": "markdown",
   "metadata": {},
   "source": [
    "## Part 2: Chapter 8 Example DNA Translation"
   ]
  },
  {
   "cell_type": "code",
   "execution_count": 2,
   "metadata": {
    "collapsed": false
   },
   "outputs": [
    {
     "name": "stdout",
     "output_type": "stream",
     "text": [
      "ATG TTC GGT\n"
     ]
    }
   ],
   "source": [
    "dna = \"ATGTTCGGT\"\n",
    "codon1 = dna[0:3] #locate first three, ATG\n",
    "codon2 = dna[3:6] #locate 4 through 6th, TTC \n",
    "codon3 = dna[6:9] #locate 5 through 8th, GGT\n",
    "print(codon1, codon2, codon3)"
   ]
  },
  {
   "cell_type": "code",
   "execution_count": 5,
   "metadata": {
    "collapsed": false
   },
   "outputs": [
    {
     "name": "stdout",
     "output_type": "stream",
     "text": [
      "0\n",
      "3\n",
      "6\n"
     ]
    }
   ],
   "source": [
    "for start in range(0,7,3):\n",
    "    print(start)\n",
    "#printing start positions of interest"
   ]
  },
  {
   "cell_type": "code",
   "execution_count": 9,
   "metadata": {
    "collapsed": false
   },
   "outputs": [
    {
     "name": "stdout",
     "output_type": "stream",
     "text": [
      "One codon is ATG\n",
      "One codon is TTC\n",
      "One codon is GGT\n"
     ]
    }
   ],
   "source": [
    "#simplifying the code through combination\n",
    "dna = \"ATGTTCGGT\"\n",
    "for start in range(0,7,3):\n",
    "    codon = dna[start:start+3] \n",
    "    print(\"One codon is \" + codon)"
   ]
  },
  {
   "cell_type": "code",
   "execution_count": 10,
   "metadata": {
    "collapsed": false
   },
   "outputs": [
    {
     "name": "stdout",
     "output_type": "stream",
     "text": [
      "ATG\n",
      "TT\n",
      "\n"
     ]
    }
   ],
   "source": [
    "#shorter sequence will get short or unfinished codons\n",
    "dna = \"ATGTT\"\n",
    "for start in range(0,7,3):\n",
    "    codon = dna[start:start+3]\n",
    "    print(codon)"
   ]
  },
  {
   "cell_type": "code",
   "execution_count": 11,
   "metadata": {
    "collapsed": false
   },
   "outputs": [
    {
     "name": "stdout",
     "output_type": "stream",
     "text": [
      "One codon is ATG\n",
      "One codon is TTC\n",
      "One codon is GGT\n"
     ]
    }
   ],
   "source": [
    "#longer sequences can leave out codons too \n",
    "dna = \"ATGTTCGGTGAAGCGGGCTAGAT\"\n",
    "for start in range(0,7,3):\n",
    "    codon = dna[start:start+3]\n",
    "    print(\"One codon is \" + codon)"
   ]
  },
  {
   "cell_type": "code",
   "execution_count": 15,
   "metadata": {
    "collapsed": false
   },
   "outputs": [
    {
     "name": "stdout",
     "output_type": "stream",
     "text": [
      "one codon is ATG\n",
      "one codon is TTC\n",
      "one codon is GGT\n"
     ]
    }
   ],
   "source": [
    "# need to take into account DNA length\n",
    "\n",
    "dna = \"ATGTTCGGT\"\n",
    "# calculate the start position for the final codon\n",
    "last_codon_start = (len(dna) - 2)\n",
    "# process the dna sequence in three base chunks\n",
    "for start in range(0,last_codon_start,3):\n",
    "    codon = dna[start:start+3]\n",
    "    print(\"One codon is \" + codon)"
   ]
  },
  {
   "cell_type": "code",
   "execution_count": 16,
   "metadata": {
    "collapsed": true
   },
   "outputs": [],
   "source": [
    "#Dictionary of matching amino acids to codon\n",
    "gencode = {\n",
    "'ATA':'I', 'ATC':'I', 'ATT':'I', 'ATG':'M',\n",
    "'ACA':'T', 'ACC':'T', 'ACG':'T', 'ACT':'T',\n",
    "'AAC':'N', 'AAT':'N', 'AAA':'K', 'AAG':'K',\n",
    "'AGC':'S', 'AGT':'S', 'AGA':'R', 'AGG':'R',\n",
    "'CTA':'L', 'CTC':'L', 'CTG':'L', 'CTT':'L',\n",
    "'CCA':'P', 'CCC':'P', 'CCG':'P', 'CCT':'P',\n",
    "'CAC':'H', 'CAT':'H', 'CAA':'Q', 'CAG':'Q',\n",
    "'CGA':'R', 'CGC':'R', 'CGG':'R', 'CGT':'R',\n",
    "'GTA':'V', 'GTC':'V', 'GTG':'V', 'GTT':'V',\n",
    "'GCA':'A', 'GCC':'A', 'GCG':'A', 'GCT':'A',\n",
    "'GAC':'D', 'GAT':'D', 'GAA':'E', 'GAG':'E',\n",
    "'GGA':'G', 'GGC':'G', 'GGG':'G', 'GGT':'G',\n",
    "'TCA':'S', 'TCC':'S', 'TCG':'S', 'TCT':'S',\n",
    "'TTC':'F', 'TTT':'F', 'TTA':'L', 'TTG':'L',\n",
    "'TAC':'Y', 'TAT':'Y', 'TAA':'_', 'TAG':'_',\n",
    "'TGC':'C', 'TGT':'C', 'TGA':'_', 'TGG':'W'}"
   ]
  },
  {
   "cell_type": "code",
   "execution_count": 17,
   "metadata": {
    "collapsed": false
   },
   "outputs": [
    {
     "name": "stdout",
     "output_type": "stream",
     "text": [
      "H\n",
      "V\n"
     ]
    }
   ],
   "source": [
    "#test the dictionary\n",
    "print(gencode['CAT'])\n",
    "print(gencode.get('GTC'))"
   ]
  },
  {
   "cell_type": "code",
   "execution_count": 18,
   "metadata": {
    "collapsed": false
   },
   "outputs": [
    {
     "name": "stdout",
     "output_type": "stream",
     "text": [
      "One codon is ATG\n",
      "The Amino Acid is M\n",
      "One codon is TTC\n",
      "The Amino Acid is F\n",
      "One codon is GGT\n",
      "The Amino Acid is G\n"
     ]
    }
   ],
   "source": [
    "#Add the AA translation\n",
    "dna = \"ATGTTCGGT\"\n",
    "last_codon_start = len(dna) - 2\n",
    "for start in range(0,last_codon_start,3):\n",
    "    codon = dna[start:start+3]\n",
    "    AA = gencode.get(codon)\n",
    "    print(\"One codon is \" + codon)\n",
    "    print(\"The Amino Acid is \" + AA)"
   ]
  },
  {
   "cell_type": "code",
   "execution_count": 20,
   "metadata": {
    "collapsed": false
   },
   "outputs": [
    {
     "name": "stdout",
     "output_type": "stream",
     "text": [
      "Protein sequence is MFG\n"
     ]
    }
   ],
   "source": [
    "#take print out of loop to combine list of AA translation\n",
    "dna = \"ATGTTCGGT\"\n",
    "last_codon_start = len(dna) - 2\n",
    "protein = \"\"\n",
    "for start in range(0,last_codon_start,3):\n",
    "    codon = dna[start:start+3]\n",
    "    aa = gencode.get(codon)\n",
    "    protein = protein + aa\n",
    "print(\"Protein sequence is \" + protein)"
   ]
  },
  {
   "cell_type": "code",
   "execution_count": 23,
   "metadata": {
    "collapsed": false,
    "scrolled": true
   },
   "outputs": [
    {
     "name": "stdout",
     "output_type": "stream",
     "text": [
      "MFG\n",
      "IDRSLLIDQ\n",
      "TDRSLLTYR\n",
      "TIDRXVRSYS\n"
     ]
    }
   ],
   "source": [
    "#change code into function and use to find AA sequence for any given DNA \n",
    "def translate_dna(dna):\n",
    "    last_codon_start = len(dna) - 2\n",
    "    protein = \"\"\n",
    "    for start in range(0,last_codon_start,3):\n",
    "        codon = dna[start:start+3]\n",
    "        aa = gencode.get(codon.upper(), 'X')\n",
    "        protein = protein + aa\n",
    "    return protein\n",
    "print(translate_dna(\"ATGTTCGGT\"))\n",
    "print(translate_dna(\"ATCGATCGATCGTTGCTTATCGATCAG\"))\n",
    "print(translate_dna(\"actgatcgtagcttgcttacgtatcgtat\"))\n",
    "print(translate_dna(\"ACGATCGATCGTNACGTACGATCGTACTCG\"))"
   ]
  },
  {
   "cell_type": "markdown",
   "metadata": {},
   "source": [
    "## Part 3: Allesina and Wilmes Chapter 4"
   ]
  },
  {
   "cell_type": "markdown",
   "metadata": {
    "collapsed": true
   },
   "source": [
    "### 4.3.2 Simulation"
   ]
  },
  {
   "cell_type": "code",
   "execution_count": 43,
   "metadata": {
    "collapsed": false,
    "scrolled": true
   },
   "outputs": [],
   "source": [
    "import scipy # for random numbers\n",
    "def build_population(N,p):\n",
    "#The population consists of N individuals.\n",
    "#Each individual has two chromosomes, containing allele \"A\" or \"a\", with probability p and 1-p,\n",
    "#respectively.The population is a list of tuples.\n",
    "    population = []\n",
    "    for i in range(N):\n",
    "        allele1 = \"A\"\n",
    "        if scipy.random.rand() > p:\n",
    "            allele1 = \"a\"\n",
    "        allele2 = \"A\"\n",
    "        if scipy.random.rand() > p:\n",
    "            allele2 = \"a\"\n",
    "        population.append((allele1, allele2))\n",
    "    return population"
   ]
  },
  {
   "cell_type": "code",
   "execution_count": 44,
   "metadata": {
    "collapsed": false,
    "scrolled": true
   },
   "outputs": [
    {
     "data": {
      "text/plain": [
       "[('A', 'A'),\n",
       " ('A', 'A'),\n",
       " ('A', 'a'),\n",
       " ('A', 'A'),\n",
       " ('A', 'A'),\n",
       " ('a', 'A'),\n",
       " ('A', 'a'),\n",
       " ('a', 'a'),\n",
       " ('A', 'A'),\n",
       " ('A', 'A')]"
      ]
     },
     "execution_count": 44,
     "metadata": {},
     "output_type": "execute_result"
    }
   ],
   "source": [
    "build_population(10,0.7)"
   ]
  },
  {
   "cell_type": "code",
   "execution_count": 45,
   "metadata": {
    "collapsed": false
   },
   "outputs": [],
   "source": [
    "# genotype count for the population\n",
    "def compute_frequencies(population):\n",
    "#Count the genotypes. Returns a dictionary with counts for each genotype.\n",
    "    AA = population.count((\"A\", \"A\"))\n",
    "    Aa = population.count((\"A\", \"a\"))\n",
    "    aA = population.count((\"a\", \"A\"))\n",
    "    aa = population.count((\"a\", \"a\"))\n",
    "    return({\"AA\": AA,\n",
    "            \"aa\": aa,\n",
    "            \"Aa\": Aa,\n",
    "            \"aA\": aA})"
   ]
  },
  {
   "cell_type": "code",
   "execution_count": 46,
   "metadata": {
    "collapsed": false
   },
   "outputs": [
    {
     "data": {
      "text/plain": [
       "{'AA': 2, 'Aa': 1, 'aA': 2, 'aa': 1}"
      ]
     },
     "execution_count": 46,
     "metadata": {},
     "output_type": "execute_result"
    }
   ],
   "source": [
    "my_pop = build_population(6, 0.5)\n",
    "my_pop\n",
    "compute_frequencies(my_pop)"
   ]
  },
  {
   "cell_type": "code",
   "execution_count": 80,
   "metadata": {
    "collapsed": false
   },
   "outputs": [],
   "source": [
    "\n",
    "def reproduce_population(my_pop):\n",
    "    #Create a new generation through sexual reproduction\n",
    "#For each of N new offspring:\n",
    "#- Choose the parents at random\n",
    "#- The offspring receives a chromosomes from each of the parents\n",
    "    new_generation = []\n",
    "    N = len(my_pop)\n",
    "    for i in range(N):\n",
    "        dad = scipy.random.randint(N) # random integer between 0 and N-1\n",
    "        mom = scipy.random.randint(N)\n",
    "        chr_mom = scipy.random.randint(2) # which chromosome comes from mom\n",
    "        offspring = (my_pop[mom][chr_mom], my_pop[dad][1 - chr_mom])\n",
    "        new_generation.append(offspring)\n",
    "    return(new_generation)"
   ]
  },
  {
   "cell_type": "code",
   "execution_count": 81,
   "metadata": {
    "collapsed": false
   },
   "outputs": [
    {
     "data": {
      "text/plain": [
       "[('A', 'a'), ('A', 'A'), ('A', 'a'), ('A', 'a'), ('a', 'a'), ('A', 'A')]"
      ]
     },
     "execution_count": 81,
     "metadata": {},
     "output_type": "execute_result"
    }
   ],
   "source": [
    "reproduce_population(my_pop)"
   ]
  },
  {
   "cell_type": "code",
   "execution_count": 90,
   "metadata": {
    "collapsed": false
   },
   "outputs": [
    {
     "name": "stdout",
     "output_type": "stream",
     "text": [
      "ATG TTC GGT\n",
      "0\n",
      "3\n",
      "6\n",
      "One codon is ATG\n",
      "One codon is TTC\n",
      "One codon is GGT\n",
      "ATG\n",
      "TT\n",
      "\n",
      "One codon is ATG\n",
      "One codon is TTC\n",
      "One codon is GGT\n",
      "One codon is ATG\n",
      "One codon is TTC\n",
      "One codon is GGT\n",
      "H\n",
      "V\n",
      "One codon is ATG\n",
      "The Amino Acid is M\n",
      "One codon is TTC\n",
      "The Amino Acid is F\n",
      "One codon is GGT\n",
      "The Amino Acid is G\n",
      "Protein sequence is MFG\n",
      "MFG\n",
      "IDRSLLIDQ\n",
      "TDRSLLTYR\n",
      "TIDRXVRSYS\n"
     ]
    }
   ],
   "source": [
    "import drift"
   ]
  },
  {
   "cell_type": "code",
   "execution_count": 91,
   "metadata": {
    "collapsed": false
   },
   "outputs": [],
   "source": [
    "\n",
    "def simulate_drift(N, p):\n",
    "# initialize the population\n",
    "    my_pop = drift.build_population(N, p)\n",
    "    fixation = False\n",
    "    num_generations = 0\n",
    "    while fixation == False:\n",
    "    #compute genotype counts\n",
    "        genotype_counts = drift.compute_frequencies(my_pop)\n",
    "    #if one allele went to fixation, end the simulation\n",
    "        if genotype_counts[\"AA\"] == N or genotype_counts[\"aa\"] == N:\n",
    "            print(\"An allele reached fixation at generation \", num_generations)\n",
    "            print(\"The genotype counts are \")\n",
    "            print(genotype_counts)\n",
    "            fixation == True\n",
    "            break\n",
    "        #if not, reproduce\n",
    "        my_pop = drift.reproduce_population(my_pop)\n",
    "        num_generations = num_generations + 1\n"
   ]
  },
  {
   "cell_type": "code",
   "execution_count": 92,
   "metadata": {
    "collapsed": false
   },
   "outputs": [
    {
     "name": "stdout",
     "output_type": "stream",
     "text": [
      "An allele reached fixation at generation  67\n",
      "The genotype counts are \n",
      "{'aA': 0, 'Aa': 0, 'AA': 100, 'aa': 0}\n",
      "An allele reached fixation at generation  29\n",
      "The genotype counts are \n",
      "{'aA': 0, 'Aa': 0, 'AA': 100, 'aa': 0}\n"
     ]
    }
   ],
   "source": [
    "simulate_drift(100, 0.5)\n",
    "simulate_drift(100, 0.9)"
   ]
  },
  {
   "cell_type": "markdown",
   "metadata": {},
   "source": [
    "### 4.9.1 Allesina and Wilmes\n",
    "\n",
    "#### You find the data in python/data/Jiang2013_data.csv . Write a function that takes as input the desired Taxon , and returns the mean value of r ."
   ]
  },
  {
   "cell_type": "code",
   "execution_count": null,
   "metadata": {
    "collapsed": true
   },
   "outputs": [],
   "source": [
    "#sed 's/\\s/,/g' Jiang2013_data.csv > commaJiang.csv\n",
    "# to format the text file and remove all white spaces with commas\n",
    "\n",
    "def find_mean_rvalue():\n",
    "    open \"commaJiang.csv\" as filed_of_interest:\n",
    "        data = file_of_interest.readlines()\n",
    "        data = data[1:0] #remove the header \n",
    "        import re #import regular expressions\n",
    "        taxons = [] \n",
    "           #write for loop to create dictionary of taxons\n",
    "        r = []\n",
    "            #write for loop to create dictionary of r terms.\n",
    "        #compile taxon to match to r results\n",
    "        #find r value means\n",
    "        #print\n",
    "        \n"
   ]
  }
 ],
 "metadata": {
  "anaconda-cloud": {},
  "kernelspec": {
   "display_name": "Python [conda root]",
   "language": "python",
   "name": "conda-root-py"
  },
  "language_info": {
   "codemirror_mode": {
    "name": "ipython",
    "version": 3
   },
   "file_extension": ".py",
   "mimetype": "text/x-python",
   "name": "python",
   "nbconvert_exporter": "python",
   "pygments_lexer": "ipython3",
   "version": "3.5.2"
  }
 },
 "nbformat": 4,
 "nbformat_minor": 2
}
