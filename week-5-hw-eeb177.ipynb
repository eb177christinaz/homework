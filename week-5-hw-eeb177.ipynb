{
 "cells": [
  {
   "cell_type": "markdown",
   "metadata": {},
   "source": [
    "## Question 1"
   ]
  },
  {
   "cell_type": "markdown",
   "metadata": {},
   "source": [
    "tr \"\\r\" \"\\n\" <eBird.csv > reformat.eBird.csv\n",
    "How many families are in this file? \n",
    "    cut -d ',' -f 3 reformat.eBird.csv | tail -n+4 | sort | uniq | wc -l\n",
    "Which family has the most species represented? \n",
    "    cut -d ',' -f 3 reformat.eBird.csv | head -n +1 | tail -n+4 | sort -n -r\n",
    "How many families have only a single species in them? \n",
    "    cut -d ',' -f 8 reformat.eBird.csv | tail -n+4 | sort -n -r | grep -wc E \"\\s/s\"\n",
    "How many families are presented the eBird data? \n",
    "    cut -d ',' -f 8 reformat.eBird.csv | tail -n+2 | sort | uniq | wc -l --> 240 families\n",
    "How many species are in each family of the eBrid data? \n",
    "    cut -d ',' -f 8 reformat.eBird.csv | tail -n+4 | sort -n"
   ]
  },
  {
   "cell_type": "markdown",
   "metadata": {},
   "source": [
    "## Question 2"
   ]
  },
  {
   "cell_type": "code",
   "execution_count": null,
   "metadata": {
    "collapsed": true
   },
   "outputs": [],
   "source": []
  },
  {
   "cell_type": "markdown",
   "metadata": {},
   "source": [
    "## Question 3\n",
    "\n",
    "Percentage of amino acid residues"
   ]
  },
  {
   "cell_type": "code",
   "execution_count": 6,
   "metadata": {
    "collapsed": false
   },
   "outputs": [
    {
     "name": "stdout",
     "output_type": "stream",
     "text": [
      "10.0\n"
     ]
    }
   ],
   "source": [
    "protein = \"MSRSLLLRFLLFLLLLPPLP\"\n",
    "aa = \"R\"\n",
    "aa_count = protein.count(aa)\n",
    "protein_length = len(protein)\n",
    "percentage = aa_count * 100 / protein_length\n",
    "print(percentage)\n",
    "\n",
    "def get_aa_percentage(protein, aa):\n",
    "    # convert both inputs to upper case\n",
    "    protein = protein.upper()\n",
    "    aa = aa.upper()\n",
    "    aa_count = protein.count(aa)\n",
    "    protein_length = len(protein)\n",
    "    percentage = aa_count * 100 / protein_length\n",
    "    return percentage\n",
    "\n",
    "# test the function with assertions\n",
    "assert get_aa_percentage(\"MSRSLLLRFLLFLLLLPPLP\", \"M\") == 5\n",
    "assert get_aa_percentage(\"MSRSLLLRFLLFLLLLPPLP\", \"r\") == 10\n",
    "assert get_aa_percentage(\"msrslllrfllfllllpplp\", \"L\") == 50\n",
    "assert get_aa_percentage(\"MSRSLLLRFLLFLLLLPPLP\", \"Y\") == 0"
   ]
  },
  {
   "cell_type": "code",
   "execution_count": 7,
   "metadata": {
    "collapsed": false
   },
   "outputs": [
    {
     "name": "stdout",
     "output_type": "stream",
     "text": [
      "counting number of M\n",
      "running total is 1\n",
      "counting number of L\n",
      "running total is 11\n",
      "counting number of F\n",
      "running total is 13\n",
      "final percentage is 65.0\n"
     ]
    }
   ],
   "source": [
    "protein = \"MSRSLLLRFLLFLLLLPPLP\"\n",
    "aa_list = ['M', 'L', 'F']\n",
    "# the total variable will hold the total number of matching residues\n",
    "total = 0\n",
    "for aa in aa_list:\n",
    "    print(\"counting number of \" + aa)\n",
    "    aa = aa.upper()\n",
    "    aa_count = protein.count(aa)\n",
    "    # add the number for this residue to the total count\n",
    "    total = total + aa_count\n",
    "    print(\"running total is \" + str(total))\n",
    "percentage = total * 100 / len(protein)\n",
    "print(\"final percentage is \" + str(percentage))"
   ]
  },
  {
   "cell_type": "code",
   "execution_count": 12,
   "metadata": {
    "collapsed": false
   },
   "outputs": [
    {
     "name": "stdout",
     "output_type": "stream",
     "text": [
      "10.0\n"
     ]
    }
   ],
   "source": [
    "protein = \"MSRSLLLRFLLFLLLLPPLP\"\n",
    "aa = \"R\"\n",
    "aa_count = protein.count(aa)\n",
    "protein_length = len(protein)\n",
    "percentage = aa_count * 100 / protein_length\n",
    "print(percentage)\n",
    "\n",
    "def get_aa_percentage(protein, aa_list=['A','I','L','M','F','W','Y','V']):\n",
    "    protein = protein.upper()\n",
    "    protein_length = len(protein)\n",
    "    total = 0\n",
    "    for aa in aa_list:\n",
    "        aa = aa.upper()\n",
    "        aa_count = protein.count(aa)\n",
    "        total = total + aa_count\n",
    "    percentage = total * 100 / protein_length\n",
    "    return percentage\n",
    "\n",
    "assert get_aa_percentage(\"MSRSLLLRFLLFLLLLPPLP\", \"M\") == 5\n",
    "assert get_aa_percentage(\"MSRSLLLRFLLFLLLLPPLP\", \"r\") == 10\n",
    "assert get_aa_percentage(\"msrslllrfllfllllpplp\", \"L\") == 50\n",
    "assert get_aa_percentage(\"MSRSLLLRFLLFLLLLPPLP\", \"Y\") == 0"
   ]
  },
  {
   "cell_type": "code",
   "execution_count": null,
   "metadata": {
    "collapsed": true
   },
   "outputs": [],
   "source": []
  }
 ],
 "metadata": {
  "anaconda-cloud": {},
  "kernelspec": {
   "display_name": "Python [conda root]",
   "language": "python",
   "name": "conda-root-py"
  },
  "language_info": {
   "codemirror_mode": {
    "name": "ipython",
    "version": 3
   },
   "file_extension": ".py",
   "mimetype": "text/x-python",
   "name": "python",
   "nbconvert_exporter": "python",
   "pygments_lexer": "ipython3",
   "version": "3.5.2"
  }
 },
 "nbformat": 4,
 "nbformat_minor": 2
}
