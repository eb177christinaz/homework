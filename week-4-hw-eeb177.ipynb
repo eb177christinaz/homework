{
 "cells": [
  {
   "cell_type": "markdown",
   "metadata": {},
   "source": [
    "## Part 1."
   ]
  },
  {
   "cell_type": "markdown",
   "metadata": {},
   "source": [
    "## Complementing DNA\n"
   ]
  },
  {
   "cell_type": "code",
   "execution_count": 11,
   "metadata": {
    "collapsed": false
   },
   "outputs": [
    {
     "name": "stdout",
     "output_type": "stream",
     "text": [
      "TCTGTTCGTTTTCGTTTTGTTTTTGCTTTCTTTCTTTTTTTTCGTTGCGTTCTT\n",
      "ACAGAACGAAAACGAAAAGAAAAAGCAAACAAACAAAAAAAACGAAGCGAACAA\n",
      "AGAGAAGGAAAAGGAAAAGAAAAAGGAAAGAAAGAAAAAAAAGGAAGGGAAGAA\n",
      "ACACAACCAAAACCAAAACAAAAACCAAACAAACAAAAAAAACCAACCCAACAA\n"
     ]
    }
   ],
   "source": [
    "my_dna = \"ACTGATCGATTACGTATAGTATTTGCTATCATACATATATATCGATGCGTTCAT\"\n",
    "#replace A with T\n",
    "replacement1 = my_dna.replace(\"A\", \"T\")\n",
    "print(replacement1)\n",
    "#replace T with A\n",
    "replacement2 = replacement1.replace(\"T\", \"A\")\n",
    "print(replacement2)\n",
    "#replace C with G\n",
    "replacement3 = replacement2.replace(\"C\", \"G\")\n",
    "print(replacement3)\n",
    "#replace G with C\n",
    "replacement4 = replacement3.replace(\"G\", \"C\")\n",
    "#print final replacement\n",
    "print(replacement4)\n"
   ]
  },
  {
   "cell_type": "code",
   "execution_count": 16,
   "metadata": {
    "collapsed": false
   },
   "outputs": [
    {
     "name": "stdout",
     "output_type": "stream",
     "text": [
      "HCTGHTCGHTTHCGTHTHGTHTTTGCTHTCHTHCHTHTHTHTCGHTGCGTTCHT\n",
      "HCJGHJCGHJJHCGJHJHGJHJJJGCJHJCHJHCHJHJHJHJCGHJGCGJJCHJ\n",
      "HKJGHJKGHJJHKGJHJHGJHJJJGKJHJKHJHKHJHJHJHJKGHJGKGJJKHJ\n",
      "HKJLHJKLHJJHKLJHJHLJHJJJLKJHJKHJHKHJHJHJHJKLHJLKLJJKHJ\n",
      "TKJLTJKLTJJTKLJTJTLJTJJJLKJTJKTJTKTJTJTJTJKLTJLKLJJKTJ\n",
      "TKALTAKLTAATKLATATLATAAALKATAKTATKTATATATAKLTALKLAAKTA\n",
      "TGALTAGLTAATGLATATLATAAALGATAGTATGTATATATAGLTALGLAAGTA\n",
      "TGACTAGCTAATGCATATCATAAACGATAGTATGTATATATAGCTACGCAAGTA\n"
     ]
    }
   ],
   "source": [
    "my_dna= \"ACTGATCGATTACGTATAGTATTTGCTATCATACATATATATCGATGCGTTCAT\"\n",
    "replacementA = my_dna.replace('A', 'H')\n",
    "print(replacementA)\n",
    "replacementB = replacementA.replace('T', 'J')\n",
    "print(replacementB)\n",
    "replacementC = replacementB.replace('C', 'K')\n",
    "print(replacementC)\n",
    "replacementD = replacementC.replace('G', 'L')\n",
    "print(replacementD)\n",
    "replacementE = replacementD.replace('H', 'T')\n",
    "print(replacementE)\n",
    "replacementF = replacementE.replace('J', 'A')\n",
    "print(replacementF)\n",
    "replacementG = replacementF.replace('K', 'G')\n",
    "print(replacementG)\n",
    "replacementH = replacementG.replace('L', 'C')\n",
    "print(replacementH)"
   ]
  },
  {
   "cell_type": "code",
   "execution_count": 18,
   "metadata": {
    "collapsed": false
   },
   "outputs": [
    {
     "name": "stdout",
     "output_type": "stream",
     "text": [
      "tCTGtTCGtTTtCGTtTtGTtTTTGCTtTCtTtCtTtTtTtTCGtTGCGTTCtT\n",
      "tCaGtaCGtaatCGatatGataaaGCataCtatCtatatataCGtaGCGaaCta\n",
      "tgaGtagGtaatgGatatGataaaGgatagtatgtatatatagGtaGgGaagta\n",
      "tgactagctaatgcatatcataaacgatagtatgtatatatagctacgcaagta\n",
      "TGACTAGCTAATGCATATCATAAACGATAGTATGTATATATAGCTACGCAAGTA\n"
     ]
    }
   ],
   "source": [
    "my_dna = \"ACTGATCGATTACGTATAGTATTTGCTATCATACATATATATCGATGCGTTCAT\"\n",
    "replacementQ = my_dna.replace('A', 't')\n",
    "print(replacementQ)\n",
    "replacementW = replacementQ.replace('T', 'a')\n",
    "print(replacementW)\n",
    "replacementR = replacementW.replace('C', 'g')\n",
    "print(replacementR)\n",
    "replacementT = replacementR.replace('G', 'c')\n",
    "print(replacementT)\n",
    "print(replacementT.upper())"
   ]
  },
  {
   "cell_type": "markdown",
   "metadata": {},
   "source": [
    "## Restriction fragment lengths"
   ]
  },
  {
   "cell_type": "code",
   "execution_count": 19,
   "metadata": {
    "collapsed": false
   },
   "outputs": [
    {
     "name": "stdout",
     "output_type": "stream",
     "text": [
      "length of fragment one is 22\n",
      "length of fragment two is 33\n"
     ]
    }
   ],
   "source": [
    "my_dna = \"ACTGATCGATTACGTATAGTAGAATTCTATCATACATATATATCGATGCGTTCAT\"\n",
    "frag1_length = my_dna.find(\"GAATTC\") + 1\n",
    "frag2_length = len(my_dna) - frag1_length\n",
    "print(\"length of fragment one is \" + str(frag1_length))\n",
    "print(\"length of fragment two is \" + str(frag2_length))"
   ]
  },
  {
   "cell_type": "markdown",
   "metadata": {},
   "source": [
    "## Splicing out Introns, Part 1"
   ]
  },
  {
   "cell_type": "code",
   "execution_count": 20,
   "metadata": {
    "collapsed": false
   },
   "outputs": [
    {
     "name": "stdout",
     "output_type": "stream",
     "text": [
      "TCGATCGATCGATCGACTGACTAGTCATAGCTATGCATGTAGCTACTCGATCGATCGATCGATCATCGATCGATATCGATGCATCGACTACTAT\n"
     ]
    }
   ],
   "source": [
    "dna =\"ATCGATCGATCGATCGACTGACTAGTCATAGCTATGCATGTAGCTACTCGATCGATCGATCGATCGATCGATCGATCGATCGATCATGCTATCATCGATCGATATCGATGCATCGACTACTAT\"\n",
    "exon1 = dna[1:63]\n",
    "exon2 = dna[91:10000]\n",
    "print(exon1 + exon2)"
   ]
  },
  {
   "cell_type": "code",
   "execution_count": 22,
   "metadata": {
    "collapsed": false
   },
   "outputs": [
    {
     "name": "stdout",
     "output_type": "stream",
     "text": [
      "ATCGATCGATCGATCGACTGACTAGTCATAGCTATGCATGTAGCTACTCGATCGATCGATCGATCATCGATCGATATCGATGCATCGACTACTAT\n"
     ]
    }
   ],
   "source": [
    "dna =\"ATCGATCGATCGATCGACTGACTAGTCATAGCTATGCATGTAGCTACTCGATCGATCGATCGATCGATCGATCGATCGATCGATCATGCTATCATCGATCGATATCGATGCATCGACTACTAT\"\n",
    "exon1 = dna[0:62]\n",
    "exon2 = dna[90:10000]\n",
    "print(exon1 + exon2)"
   ]
  },
  {
   "cell_type": "markdown",
   "metadata": {},
   "source": [
    "## Splicing out Introns, Part 2"
   ]
  },
  {
   "cell_type": "code",
   "execution_count": 23,
   "metadata": {
    "collapsed": false
   },
   "outputs": [
    {
     "name": "stdout",
     "output_type": "stream",
     "text": [
      "0.7723577235772358\n"
     ]
    }
   ],
   "source": [
    "dna =\"ATCGATCGATCGATCGACTGACTAGTCATAGCTATGCATGTAGCTACTCGATCGATCGATCGATCGATCGATCGATCGATCGATCATGCTATCATCGATCGATATCGATGCATCGACTACTAT\"\n",
    "exon1 = dna[0:62]\n",
    "exon2 = dna[90:10000]\n",
    "coding_length = len(exon1 + exon2)\n",
    "total_length = len(dna)\n",
    "print(coding_length / total_length)"
   ]
  },
  {
   "cell_type": "code",
   "execution_count": 24,
   "metadata": {
    "collapsed": false
   },
   "outputs": [
    {
     "name": "stdout",
     "output_type": "stream",
     "text": [
      "77.23577235772358\n"
     ]
    }
   ],
   "source": [
    "dna =\"ATCGATCGATCGATCGACTGACTAGTCATAGCTATGCATGTAGCTACTCGATCGATCGATCGATCGATCGATCGATCGATCGATCATGCTATCATCGATCGATATCGATGCATCGACTACTAT\"\n",
    "exon1 = dna[0:62]\n",
    "exon2 = dna[90:10000]\n",
    "coding_length = len(exon1 + exon2)\n",
    "total_length = len(dna)\n",
    "print(100 * coding_length / total_length)"
   ]
  },
  {
   "cell_type": "markdown",
   "metadata": {},
   "source": [
    "## Splicing out Introns, Part 3"
   ]
  },
  {
   "cell_type": "code",
   "execution_count": 25,
   "metadata": {
    "collapsed": false
   },
   "outputs": [
    {
     "name": "stdout",
     "output_type": "stream",
     "text": [
      "ATCGATCGATCGATCGACTGACTAGTCATAGCTATGCATGTAGCTACTCGATCGATCGATCGatcgatcgatcgatcgatcgatcatgctATCATCGATCGATATCGATGCATCGACTACTAT\n"
     ]
    }
   ],
   "source": [
    "dna =\"ATCGATCGATCGATCGACTGACTAGTCATAGCTATGCATGTAGCTACTCGATCGATCGATCGATCGATCGATCGATCGATCGATCATGCTATCATCGATCGATATCGATGCATCGACTACTAT\"\n",
    "exon1 = dna[0:62]\n",
    "intron = dna[62:90]\n",
    "exon2 = dna[90:10000]\n",
    "print(exon1 + intron.lower() + exon2)"
   ]
  },
  {
   "cell_type": "code",
   "execution_count": 29,
   "metadata": {
    "collapsed": false
   },
   "outputs": [
    {
     "name": "stdout",
     "output_type": "stream",
     "text": [
      "ATCGATCGATCGATCGACTGACTAGTCATAGCTATGCATGTAGCTACTCGATCGATCGATCGatcgatcgatcgatcgatcgatcatgctATCATCGATCGATATCGATGCATCGACTACTAT\n",
      "ATCGATCGATCGATCGACTGACTAGTCATAGCTATGCATGTAGCTACTCGATCGATCGATCGatcgatcgatcgatcgatcgatcatgctATCATCGATCGATATCGATGCATCGACTACTAT\n"
     ]
    }
   ],
   "source": [
    "dna =\"ATCGATCGATCGATCGACTGACTAGTCATAGCTATGCATGTAGCTACTCGATCGATCGATCGATCGATCGATCGATCGATCGATCATGCTATCATCGATCGATATCGATGCATCGACTACTAT\"\n",
    "exon1 = dna[0:62]\n",
    "intron = dna[62:90].lower()\n",
    "exon2 = dna[90:10000]\n",
    "print(exon1 + intron + exon2)\n",
    "print(dna[0:62] + dna[62:90].lower() + dna[90:10000])"
   ]
  },
  {
   "cell_type": "markdown",
   "metadata": {},
   "source": [
    "## Part II "
   ]
  },
  {
   "cell_type": "markdown",
   "metadata": {},
   "source": [
    "## Splitting Genomic DNA"
   ]
  },
  {
   "cell_type": "code",
   "execution_count": 7,
   "metadata": {
    "collapsed": false
   },
   "outputs": [
    {
     "name": "stdout",
     "output_type": "stream",
     "text": [
      "ATCGATCGATCGATCGACTGACTAGTCATAGCTATGCATGTAGCTACTCGATCGATCGATCGatcgatcgatcgatcgatcgatcatgctATCATCGATCGATATCGATGCATCGACTACTAT\n",
      "\n"
     ]
    }
   ],
   "source": [
    "dna_file = open(\"/home/eeb177-student/Desktop/eeb-177/homework/Chapter 3/exercises/genomic_dna.txt\")\n",
    "mydna = dna_file.read()\n",
    "exon1 = mydna[0:62]\n",
    "intron = mydna[62:90]\n",
    "exon2 = mydna[90:10000]\n",
    "print(exon1 + intron.lower() + exon2)"
   ]
  },
  {
   "cell_type": "code",
   "execution_count": 8,
   "metadata": {
    "collapsed": true
   },
   "outputs": [],
   "source": [
    "coding_file = open(\"coding_dna.txt\", \"w\")\n",
    "noncoding_file = open(\"noncoding_dna.txt\", \"w\")"
   ]
  },
  {
   "cell_type": "code",
   "execution_count": 9,
   "metadata": {
    "collapsed": false
   },
   "outputs": [
    {
     "data": {
      "text/plain": [
       "28"
      ]
     },
     "execution_count": 9,
     "metadata": {},
     "output_type": "execute_result"
    }
   ],
   "source": [
    "coding_file.write(exon1 + exon2)\n",
    "noncoding_file.write(intron)"
   ]
  },
  {
   "cell_type": "markdown",
   "metadata": {
    "collapsed": true
   },
   "source": [
    "## Writing a FASTA File"
   ]
  },
  {
   "cell_type": "code",
   "execution_count": 10,
   "metadata": {
    "collapsed": true
   },
   "outputs": [],
   "source": [
    "header_1 = \"ABC123\"\n",
    "header_2 = \"DEF456\"\n",
    "header_3 = \"HIJ789\"\n",
    "seq_1 = \"ATCGTACGATCGATCGATCGCTAGACGTATCG\" \n",
    "seq_2 = \"actgatcgacgatcgatcgatcacgact\" \n",
    "seq_3 = \"ACTGAC-ACTGT--ACTGTA----CATGTG\""
   ]
  },
  {
   "cell_type": "code",
   "execution_count": 15,
   "metadata": {
    "collapsed": false
   },
   "outputs": [
    {
     "name": "stdout",
     "output_type": "stream",
     "text": [
      "ABC123\n",
      "ATCGTACGATCGATCGATCGCTAGACGTATCG\n",
      "DEF456\n",
      "actgatcgacgatcgatcgatcacgact\n",
      "HIJ789\n",
      "ACTGAC-ACTGT--ACTGTA----CATGTG\n"
     ]
    }
   ],
   "source": [
    "print(header_1)\n",
    "print(seq_1)\n",
    "print(header_2)\n",
    "print(seq_2)\n",
    "print(header_3)\n",
    "print(seq_3)"
   ]
  },
  {
   "cell_type": "code",
   "execution_count": 12,
   "metadata": {
    "collapsed": false
   },
   "outputs": [
    {
     "name": "stdout",
     "output_type": "stream",
     "text": [
      ">ABC123\n",
      "ATCGTACGATCGATCGATCGCTAGACGTATCG\n",
      ">DEF456\n",
      "actgatcgacgatcgatcgatcacgact\n",
      ">HIJ789\n",
      "ACTGAC-ACTGT--ACTGTA----CATGTG\n"
     ]
    }
   ],
   "source": [
    "print('>' + header_1 + '\\n' + seq_1)\n",
    "print('>' + header_2 + '\\n' + seq_2)\n",
    "print('>' + header_3 + '\\n' + seq_3)"
   ]
  },
  {
   "cell_type": "code",
   "execution_count": 18,
   "metadata": {
    "collapsed": false
   },
   "outputs": [
    {
     "data": {
      "text/plain": [
       "32"
      ]
     },
     "execution_count": 18,
     "metadata": {},
     "output_type": "execute_result"
    }
   ],
   "source": [
    "output = open(\"/home/eeb177-student/Desktop/eeb-177/homework/Chapter 3/exercises/sequences.fasta\", \"w\")\n",
    "output.write('>' + header_1 + '\\n' + seq_1)\n",
    "output.write('>' + header_2 + '\\n' + seq_2.upper())\n",
    "output.write('>' + header_3 + '\\n' + seq_3.replace('-', ''))"
   ]
  },
  {
   "cell_type": "code",
   "execution_count": 19,
   "metadata": {
    "collapsed": false
   },
   "outputs": [
    {
     "data": {
      "text/plain": [
       "33"
      ]
     },
     "execution_count": 19,
     "metadata": {},
     "output_type": "execute_result"
    }
   ],
   "source": [
    "output = open(\"/home/eeb177-student/Desktop/eeb-177/homework/Chapter 3/exercises/sequences.fasta\", \"w\")\n",
    "output.write('>' + header_1 + '\\n' + seq_1 + '\\n')\n",
    "output.write('>' + header_2 + '\\n' + seq_2.upper() + '\\n')\n",
    "output.write('>' + header_3 + '\\n' + seq_3.replace('-', '') + '\\n')"
   ]
  },
  {
   "cell_type": "code",
   "execution_count": 20,
   "metadata": {
    "collapsed": false
   },
   "outputs": [
    {
     "data": {
      "text/plain": [
       "33"
      ]
     },
     "execution_count": 20,
     "metadata": {},
     "output_type": "execute_result"
    }
   ],
   "source": [
    "# set the values of all the header variables \n",
    "header_1 = \"ABC123\"\n",
    "header_2 = \"DEF456\"\n",
    "header_3 = \"HIJ789\"\n",
    "\n",
    "# set the values of all the sequence variables\n",
    "seq_1 = \"ATCGTACGATCGATCGATCGCTAGACGTATCG\"\n",
    "seq_2 = \"actgatcgacgatcgatcgatcacgact\"\n",
    "seq_3 = \"ACTGAC-ACTGT—ACTGTA----CATGTG\"\n",
    "\n",
    "# make a new file to hold the output\n",
    "output = open(\"/home/eeb177-student/Desktop/eeb-177/homework/Chapter 3/exercises/sequences.fasta\", \"w\")\n",
    "\n",
    "# write the header and sequence for seq1\n",
    "output.write('>' + header_1 + '\\n' + seq_1 + '\\n')\n",
    "\n",
    "# write the header and uppercase sequences for seq2\n",
    "output.write('>' + header_2 + '\\n' + seq_2.upper() + '\\n')\n",
    "\n",
    "# write the header and sequence for seq3 with hyphens removed\n",
    "output.write('>' + header_3 + '\\n' + seq_3.replace('-', '') + '\\n')"
   ]
  },
  {
   "cell_type": "markdown",
   "metadata": {},
   "source": [
    "## Writing Multiple Fasta Files"
   ]
  },
  {
   "cell_type": "code",
   "execution_count": 22,
   "metadata": {
    "collapsed": false
   },
   "outputs": [
    {
     "data": {
      "text/plain": [
       "33"
      ]
     },
     "execution_count": 22,
     "metadata": {},
     "output_type": "execute_result"
    }
   ],
   "source": [
    "# set the values of all the header variables\n",
    "header_1 = \"ABC123\"\n",
    "header_2 = \"DEF456\"\n",
    "header_3 = \"HIJ789\"\n",
    "\n",
    "# set the values of all the sequence variables\n",
    "seq_1 = \"ATCGTACGATCGATCGATCGCTAGACGTATCG\"\n",
    "seq_2 = \"actgatcgacgatcgatcgatcacgact\"\n",
    "seq_3 = \"ACTGAC-ACTGT—ACTGTA----CATGTG\"\n",
    "\n",
    "# make three files to hold the output\n",
    "output_1 = open(header_1 + \".fasta\", \"w\")\n",
    "output_2 = open(header_2 + \".fasta\", \"w\")\n",
    "output_3 = open(header_3 + \".fasta\", \"w\")\n",
    "\n",
    "# write one sequence to each output file\n",
    "output_1.write('>' + header_1 + '\\n' + seq_1 + '\\n')\n",
    "output_2.write('>' + header_2 + '\\n' + seq_2.upper() + '\\n')\n",
    "output_3.write('>' + header_3 + '\\n' + seq_3.replace('-', '') + '\\n')"
   ]
  },
  {
   "cell_type": "markdown",
   "metadata": {},
   "source": [
    "## Part 3"
   ]
  },
  {
   "cell_type": "code",
   "execution_count": 24,
   "metadata": {
    "collapsed": false
   },
   "outputs": [
    {
     "name": "stdout",
     "output_type": "stream",
     "text": [
      "ATTCGATTATAAGCTCGATCGATCGATCGATCGATCGATCGATCGATCGATCGATC\n",
      "\n",
      "ATTCGATTATAAGCACTGATCGATCGATCGATCGATCGATGCTATCGTCGT\n",
      "\n",
      "ATTCGATTATAAGCATCGATCACGATCTATCGTACGTATGCATATCGATATCGATCGTAGTC\n",
      "\n",
      "ATTCGATTATAAGCACTATCGATGATCTAGCTACGATCGTAGCTGTA\n",
      "\n",
      "ATTCGATTATAAGCACTAGCTAGTCTCGATGCATGATCAGCTTAGCTGATGATGCTATGCA\n",
      "\n"
     ]
    }
   ],
   "source": [
    "file = open(\"/home/eeb177-student/Desktop/eeb-177/homework/Chapter 4/exercises/input.txt\")\n",
    "for dna in file:\n",
    "    print(dna)"
   ]
  },
  {
   "cell_type": "code",
   "execution_count": 26,
   "metadata": {
    "collapsed": false
   },
   "outputs": [
    {
     "name": "stdout",
     "output_type": "stream",
     "text": [
      "TCGATCGATCGATCGATCGATCGATCGATCGATCGATCGATC\n",
      "\n",
      "ACTGATCGATCGATCGATCGATCGATGCTATCGTCGT\n",
      "\n",
      "ATCGATCACGATCTATCGTACGTATGCATATCGATATCGATCGTAGTC\n",
      "\n",
      "ACTATCGATGATCTAGCTACGATCGTAGCTGTA\n",
      "\n",
      "ACTAGCTAGTCTCGATGCATGATCAGCTTAGCTGATGATGCTATGCA\n",
      "\n"
     ]
    }
   ],
   "source": [
    "file = open(\"/home/eeb177-student/Desktop/eeb-177/homework/Chapter 4/exercises/input.txt\")\n",
    "for dna in file:\n",
    "    last_character_position = len(dna)\n",
    "    trimmed_dna = dna[14:last_character_position]\n",
    "    print(trimmed_dna)"
   ]
  },
  {
   "cell_type": "code",
   "execution_count": 32,
   "metadata": {
    "collapsed": false
   },
   "outputs": [],
   "source": [
    "file = open(\"/home/eeb177-student/Desktop/eeb-177/homework/Chapter 4/exercises/input.txt\")\n",
    "output = open(\"/home/eeb177-student/Desktop/eeb-177/homework/Chapter 4/exercises/trimmed.txt\", \"w\")\n",
    "for dna in file:\n",
    "    last_character_position = len(dna)\n",
    "    trimmed_dna = dna[14:last_character_position]\n",
    "    output.write(trimmed_dna)"
   ]
  },
  {
   "cell_type": "code",
   "execution_count": 37,
   "metadata": {
    "collapsed": false
   },
   "outputs": [
    {
     "name": "stdout",
     "output_type": "stream",
     "text": [
      "Processed sequence with length 43\n",
      "Processed sequence with length 38\n",
      "Processed sequence with length 49\n",
      "Processed sequence with length 34\n",
      "Processed sequence with length 48\n"
     ]
    }
   ],
   "source": [
    "# open the input file\n",
    "file = open(\"/home/eeb177-student/Desktop/eeb-177/homework/Chapter 4/exercises/input.txt\")\n",
    "\n",
    "# open the output file\n",
    "output = open(\"/home/eeb177-student/Desktop/eeb-177/homework/Chapter 4/exercises/trimmed.txt\", \"w\")\n",
    "\n",
    "# go through the input file one line at a time\n",
    "for dna in file:\n",
    "    \n",
    "    # calculate the position of the last character\n",
    "    last_character_position = len(dna)\n",
    "    \n",
    "    # get the substring from the 15th character to the end\n",
    "    trimmed_dna = dna[14:last_character_position]\n",
    "    \n",
    "    # print out the trimmed sequence\n",
    "    output.write(trimmed_dna)\n",
    "    \n",
    "    # print out the length to the screen\n",
    "    print(\"Processed sequence with length \" + str(len(trimmed_dna)))"
   ]
  },
  {
   "cell_type": "markdown",
   "metadata": {},
   "source": [
    "## Mutiple Exons from Genomic DNA"
   ]
  },
  {
   "cell_type": "code",
   "execution_count": 39,
   "metadata": {
    "collapsed": false
   },
   "outputs": [
    {
     "name": "stdout",
     "output_type": "stream",
     "text": [
      "5,58\n",
      "\n",
      "72,133\n",
      "\n",
      "190,276\n",
      "\n",
      "340,398\n",
      "\n"
     ]
    }
   ],
   "source": [
    "exon_locations = open(\"/home/eeb177-student/Desktop/eeb-177/homework/Chapter 4/exercises/exons.txt\")\n",
    "for line in exon_locations:\n",
    "    print(line)"
   ]
  },
  {
   "cell_type": "code",
   "execution_count": 40,
   "metadata": {
    "collapsed": false
   },
   "outputs": [
    {
     "name": "stdout",
     "output_type": "stream",
     "text": [
      "['5', '58\\n']\n",
      "['72', '133\\n']\n",
      "['190', '276\\n']\n",
      "['340', '398\\n']\n"
     ]
    }
   ],
   "source": [
    "exon_locations = open(\"/home/eeb177-student/Desktop/eeb-177/homework/Chapter 4/exercises/exons.txt\")\n",
    "for line in exon_locations:\n",
    "    positions = line.split(',')\n",
    "    print(positions)"
   ]
  },
  {
   "cell_type": "code",
   "execution_count": 41,
   "metadata": {
    "collapsed": false
   },
   "outputs": [
    {
     "name": "stdout",
     "output_type": "stream",
     "text": [
      "Start is 5, Stop is 58\n",
      "\n",
      "Start is 72, Stop is 133\n",
      "\n",
      "Start is 190, Stop is 276\n",
      "\n",
      "Start is 340, Stop is 398\n",
      "\n"
     ]
    }
   ],
   "source": [
    "exon_locations = open(\"/home/eeb177-student/Desktop/eeb-177/homework/Chapter 4/exercises/exons.txt\")\n",
    "for line in exon_locations:\n",
    "    positions = line.split(',')\n",
    "    start = positions[0]\n",
    "    stop = positions[1]\n",
    "    print(\"Start is \" + start + \", Stop is \" + stop)"
   ]
  },
  {
   "cell_type": "code",
   "execution_count": 45,
   "metadata": {
    "collapsed": false
   },
   "outputs": [
    {
     "ename": "TypeError",
     "evalue": "slice indices must be integers or None or have an __index__ method",
     "output_type": "error",
     "traceback": [
      "\u001b[0;31m---------------------------------------------------------------------------\u001b[0m",
      "\u001b[0;31mTypeError\u001b[0m                                 Traceback (most recent call last)",
      "\u001b[0;32m<ipython-input-45-d0edaa5044bf>\u001b[0m in \u001b[0;36m<module>\u001b[0;34m()\u001b[0m\n\u001b[1;32m      6\u001b[0m     \u001b[0mstart\u001b[0m \u001b[0;34m=\u001b[0m \u001b[0mpositions\u001b[0m\u001b[0;34m[\u001b[0m\u001b[0;36m0\u001b[0m\u001b[0;34m]\u001b[0m\u001b[0;34m\u001b[0m\u001b[0m\n\u001b[1;32m      7\u001b[0m     \u001b[0mstop\u001b[0m \u001b[0;34m=\u001b[0m \u001b[0mpositions\u001b[0m\u001b[0;34m[\u001b[0m\u001b[0;36m1\u001b[0m\u001b[0;34m]\u001b[0m\u001b[0;34m\u001b[0m\u001b[0m\n\u001b[0;32m----> 8\u001b[0;31m     \u001b[0mexon\u001b[0m \u001b[0;34m=\u001b[0m \u001b[0mgenomic_dna\u001b[0m\u001b[0;34m[\u001b[0m\u001b[0mstart\u001b[0m\u001b[0;34m:\u001b[0m\u001b[0mstop\u001b[0m\u001b[0;34m]\u001b[0m\u001b[0;34m\u001b[0m\u001b[0m\n\u001b[0m\u001b[1;32m      9\u001b[0m     \u001b[0mprint\u001b[0m\u001b[0;34m(\u001b[0m\u001b[0;34m\"exon is: \"\u001b[0m \u001b[0;34m+\u001b[0m \u001b[0mexon\u001b[0m\u001b[0;34m)\u001b[0m\u001b[0;34m\u001b[0m\u001b[0m\n",
      "\u001b[0;31mTypeError\u001b[0m: slice indices must be integers or None or have an __index__ method"
     ]
    }
   ],
   "source": [
    "genomic_dna = open(\"/home/eeb177-student/Desktop/eeb-177/homework/Chapter 4/exercises/genomic_dna.txt\").read()\n",
    "exon_locations = open(\"/home/eeb177-student/Desktop/eeb-177/homework/Chapter 4/exercises/exons.txt\")\n",
    "for line in exon_locations:\n",
    "    positions = line.split(',')\n",
    "    start = positions[0]\n",
    "    stop = positions[1]\n",
    "    exon = genomic_dna[start:stop]\n",
    "    print(\"Exon is: \" + exon)"
   ]
  },
  {
   "cell_type": "code",
   "execution_count": 47,
   "metadata": {
    "collapsed": false
   },
   "outputs": [
    {
     "name": "stdout",
     "output_type": "stream",
     "text": [
      "Exon is: CGTACCGTCGACGATGCTACGATCGTCGATCGTAGTCGATCATCGATCGATCG\n",
      "Exon is: CGATCGATCGATATCGATCGATATCATCGATGCATCGATCATCGATCGATCGATCGATCGA\n",
      "Exon is: CGATCGATCGATCGTAGCTAGCTAGCTAGATCGATCATCATCGTAGCTAGCTCGACTAGCTACGTACGATCGATGCATCGATCGTA\n",
      "Exon is: CGATCGATCGATCGATCGATCGATCGATCGATCGATCGATCGTAGCTAGCTACGATCG\n"
     ]
    }
   ],
   "source": [
    "genomic_dna = open(\"/home/eeb177-student/Desktop/eeb-177/homework/Chapter 4/exercises/genomic_dna.txt\").read()\n",
    "exon_locations = open(\"/home/eeb177-student/Desktop/eeb-177/homework/Chapter 4/exercises/exons.txt\")\n",
    "for line in exon_locations:\n",
    "    positions = line.split(',')\n",
    "    start = int(positions[0])\n",
    "    stop = int(positions[1])\n",
    "    exon = genomic_dna[start:stop]\n",
    "    print(\"Exon is: \" + exon)"
   ]
  },
  {
   "cell_type": "code",
   "execution_count": 52,
   "metadata": {
    "collapsed": false
   },
   "outputs": [
    {
     "name": "stdout",
     "output_type": "stream",
     "text": [
      "Coding sequence is : CGTACCGTCGACGATGCTACGATCGTCGATCGTAGTCGATCATCGATCGATCG\n",
      "Coding sequence is : CGTACCGTCGACGATGCTACGATCGTCGATCGTAGTCGATCATCGATCGATCGCGATCGATCGATATCGATCGATATCATCGATGCATCGATCATCGATCGATCGATCGATCGA\n",
      "Coding sequence is : CGTACCGTCGACGATGCTACGATCGTCGATCGTAGTCGATCATCGATCGATCGCGATCGATCGATATCGATCGATATCATCGATGCATCGATCATCGATCGATCGATCGATCGACGATCGATCGATCGTAGCTAGCTAGCTAGATCGATCATCATCGTAGCTAGCTCGACTAGCTACGTACGATCGATGCATCGATCGTA\n",
      "Coding sequence is : CGTACCGTCGACGATGCTACGATCGTCGATCGTAGTCGATCATCGATCGATCGCGATCGATCGATATCGATCGATATCATCGATGCATCGATCATCGATCGATCGATCGATCGACGATCGATCGATCGTAGCTAGCTAGCTAGATCGATCATCATCGTAGCTAGCTCGACTAGCTACGTACGATCGATGCATCGATCGTACGATCGATCGATCGATCGATCGATCGATCGATCGATCGATCGTAGCTAGCTACGATCG\n"
     ]
    }
   ],
   "source": [
    "genomic_dna = open(\"/home/eeb177-student/Desktop/eeb-177/homework/Chapter 4/exercises/genomic_dna.txt\").read()\n",
    "exon_locations = open(\"/home/eeb177-student/Desktop/eeb-177/homework/Chapter 4/exercises/exons.txt\")\n",
    "coding_sequence = \"\"\n",
    "for line in exon_locations:\n",
    "    positions = line.split(',')\n",
    "    start = int(positions[0])\n",
    "    stop = int(positions[1])\n",
    "    exon = genomic_dna[start:stop]\n",
    "    coding_sequence = coding_sequence + exon\n",
    "    print(\"Coding sequence is : \" + coding_sequence)"
   ]
  },
  {
   "cell_type": "code",
   "execution_count": 54,
   "metadata": {
    "collapsed": true
   },
   "outputs": [],
   "source": [
    "# open the genomic dna file and read the contents\n",
    "genomic_dna = open(\"/home/eeb177-student/Desktop/eeb-177/homework/Chapter 4/exercises/genomic_dna.txt\").read()\n",
    "\n",
    "# open the exons locations file\n",
    "exon_locations = open(\"/home/eeb177-student/Desktop/eeb-177/homework/Chapter 4/exercises/exons.txt\")\n",
    "\n",
    "# create a variable to hold the coding sequence\n",
    "coding_sequence = \"\"\n",
    "\n",
    "# go through each line in the exon locations file\n",
    "for line in exon_locations:\n",
    "    \n",
    "    # split the line using a comma\n",
    "    positions = line.split(',')\n",
    "    \n",
    "    # get the start and stop positions\n",
    "    start = int(positions[0])\n",
    "    stop = int(positions[1])\n",
    "    \n",
    "    # extract the exon from the genomic dna\n",
    "    exon = genomic_dna[start:stop]\n",
    "    \n",
    "    # append the exon to the end of the current coding sequence\n",
    "    coding_sequence = coding_sequence + exon\n",
    "    \n",
    "# write the coding sequence to an output file\n",
    "output = open(\"/home/eeb177-student/Desktop/eeb-177/homework/Chapter 4/exercises/coding_sequence.txt\", \"w\")\n",
    "output.write(coding_sequence)\n",
    "output.close()"
   ]
  },
  {
   "cell_type": "code",
   "execution_count": null,
   "metadata": {
    "collapsed": true
   },
   "outputs": [],
   "source": []
  }
 ],
 "metadata": {
  "anaconda-cloud": {},
  "kernelspec": {
   "display_name": "Python [conda root]",
   "language": "python",
   "name": "conda-root-py"
  },
  "language_info": {
   "codemirror_mode": {
    "name": "ipython",
    "version": 3
   },
   "file_extension": ".py",
   "mimetype": "text/x-python",
   "name": "python",
   "nbconvert_exporter": "python",
   "pygments_lexer": "ipython3",
   "version": "3.5.2"
  }
 },
 "nbformat": 4,
 "nbformat_minor": 2
}
